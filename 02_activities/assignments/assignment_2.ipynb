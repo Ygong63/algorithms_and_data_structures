{
 "cells": [
  {
   "cell_type": "markdown",
   "metadata": {},
   "source": [
    "# Practice Interview\n",
    "\n",
    "## Objective\n",
    "\n",
    "_*The partner assignment aims to provide participants with the opportunity to practice coding in an interview context. You will analyze your partner's Assignment 1. Moreover, code reviews are common practice in a software development team. This assignment should give you a taste of the code review process.*_\n",
    "\n",
    "## Group Size\n",
    "\n",
    "Each group should have 2 people. You will be assigned a partner\n",
    "\n",
    "## Part 1:\n",
    "\n",
    "You and your partner must share each other's Assignment 1 submission."
   ]
  },
  {
   "cell_type": "markdown",
   "metadata": {},
   "source": [
    "\n",
    "## Part 2:\n",
    "\n",
    "Create a Jupyter Notebook, create 6 of the following headings, and complete the following for your partner's assignment 1:\n",
    "\n",
    "-   Paraphrase the problem in your own words.\n"
   ]
  },
  {
   "cell_type": "code",
   "execution_count": null,
   "metadata": {},
   "outputs": [],
   "source": [
    "# The task is to identify if a binary tree contains any duplicate values.\n",
    "# Starting from the root of a binary tree, we need to check for any duplicate values.\n",
    "\n",
    "# If there is only one duplicate value, return that duplicate value.\n",
    "# If there are multiple duplicates, return the duplicate value closest to the root.\n",
    "# If no duplicates are found, return -1."
   ]
  },
  {
   "cell_type": "markdown",
   "metadata": {},
   "source": [
    "\n",
    "-   Create 1 new example that demonstrates you understand the problem. Trace/walkthrough 1 example that your partner made and explain it.\n"
   ]
  },
  {
   "cell_type": "code",
   "execution_count": null,
   "metadata": {},
   "outputs": [],
   "source": [
    "# New examples: \n",
    "\n",
    "# Input: root = [1, 2, 3, 4, 5, 6, 7, 2]\n",
    "# Traversal method: Breadth-first (level-order)\n",
    "# Output: 2 (The first duplicate value encountered)\n",
    "\n",
    "# Input: root = [5, 3, 8, 2, 4, 7, 9]\n",
    "# Traversal method: Breadth-first (level-order)\n",
    "# Output: -1 (No duplicates found)\n",
    "\n",
    "# Trace/walkthrough 1 example that your partner made: \n",
    "# Input: root = [1, 2, 3, 4, 5]\n",
    "# Steps:\n",
    "# Start with the root node 1. Add it to the queue.\n",
    "# Dequeue 1, add its children 2 and 3 to the queue.\n",
    "# Dequeue 2, add its children 4 and 5 to the queue.\n",
    "# Dequeue 3, which has no children.\n",
    "# Dequeue 4 and 5, which also have no children.\n",
    "# Output: -1 (No duplicates found)"
   ]
  },
  {
   "cell_type": "markdown",
   "metadata": {},
   "source": [
    "\n",
    "-   Copy the solution your partner wrote. \n"
   ]
  },
  {
   "cell_type": "code",
   "execution_count": 2,
   "metadata": {},
   "outputs": [
    {
     "name": "stdout",
     "output_type": "stream",
     "text": [
      "2\n",
      "10\n",
      "-1\n"
     ]
    }
   ],
   "source": [
    "# Definition for a binary tree node.\n",
    "from collections import deque\n",
    "class TreeNode(object):\n",
    "    def __init__(self, val = 0, left = None, right = None):\n",
    "        self.val = val\n",
    "        self.left = left\n",
    "        self.right = right\n",
    "\n",
    "def is_symmetric(root: TreeNode) -> int:\n",
    "    if not root:\n",
    "        return -1\n",
    "    \n",
    "    visited = set()\n",
    "    queue = deque([root])\n",
    "\n",
    "    while queue:\n",
    "        node = queue.popleft()\n",
    "        if node.val in visited:\n",
    "            return node.val\n",
    "        visited.add(node.val)\n",
    "        if node.left:\n",
    "            queue.append(node.left)\n",
    "        if node.right:\n",
    "            queue.append(node.right)\n",
    "\n",
    "    return -1\n",
    "\n",
    "# Test Example 1\n",
    "root_1 = TreeNode(1)\n",
    "root_1.left = TreeNode(2)\n",
    "root_1.right = TreeNode(2)\n",
    "root_1.left.left = TreeNode(3)\n",
    "root_1.left.right = TreeNode(5)\n",
    "root_1.right.left = TreeNode(6)\n",
    "root_1.right.right = TreeNode(7)\n",
    "\n",
    "print(is_symmetric(root_1))  # Output should be 2 \n",
    "\n",
    "# Test Example 2\n",
    "root_2 = TreeNode(1)\n",
    "root_2.left = TreeNode(10)\n",
    "root_2.right = TreeNode(2)\n",
    "root_2.left.left = TreeNode(3)\n",
    "root_2.left.right = TreeNode(10)\n",
    "root_2.right.left = TreeNode(12)\n",
    "root_2.right.right = TreeNode(12)\n",
    "\n",
    "print(is_symmetric(root_2))  # Output should be 10 \n",
    "# Test Example 3\n",
    "root_3 = TreeNode(10)\n",
    "root_3.left = TreeNode(9)\n",
    "root_3.right = TreeNode(7)\n",
    "root_3.left.left = TreeNode(8)\n",
    "\n",
    "print(is_symmetric(root_3))  # Output should be -1 if no duplicates are found\n"
   ]
  },
  {
   "cell_type": "markdown",
   "metadata": {},
   "source": [
    "\n",
    "-   Explain why their solution works in your own words.\n"
   ]
  },
  {
   "cell_type": "code",
   "execution_count": null,
   "metadata": {},
   "outputs": [],
   "source": [
    "# The solution employs BFS traversal, which processes the binary tree level by level. This ensures that nodes closer to the root are visited and checked before those at deeper levels.\n",
    "# At the beginning, we set up two data structures: visited and queue. The visited set keeps track of the node values we have encountered, and the queue is initialized with the root node.\n",
    "# We process nodes level by level. We add the root node’s value to the visited set and enqueue its left and right children.\n",
    "# During traversal, we check each node's value against the visited set. If a value is already in the set, it is the closest duplicate to the root, and the function returns that value. If the value is not in the set, it is added, and the function continues with the node's children. If no duplicates are found after checking all nodes, the function returns -1.\n",
    "# The use of a queue allows level-by-level processing of nodes, while the visited set efficiently tracks and identifies duplicate values, providing the correct output as required."
   ]
  },
  {
   "cell_type": "markdown",
   "metadata": {},
   "source": [
    "\n",
    "-   Explain the problem’s time and space complexity in your own words.\n"
   ]
  },
  {
   "cell_type": "code",
   "execution_count": null,
   "metadata": {},
   "outputs": [],
   "source": [
    "# This BFS traversal visits each node exactly once. With n nodes in the tree, the time complexity is O(n). Checking and adding node values in the visited set each have an average time complexity of O(1). Hence, the overall time complexity remains O(n).\n",
    "# The space complexity includes both the visited set and the queue. The visited set may store values for each node, resulting in a space complexity of O(n), where n is the number of nodes. Similarly, the queue also has a space complexity of O(n). Therefore, the total space complexity is O(n)."
   ]
  },
  {
   "cell_type": "markdown",
   "metadata": {},
   "source": [
    "\n",
    "-   Critique your partner's solution, including explanation, and if there is anything that should be adjusted."
   ]
  },
  {
   "cell_type": "code",
   "execution_count": 3,
   "metadata": {},
   "outputs": [
    {
     "name": "stdout",
     "output_type": "stream",
     "text": [
      "2\n",
      "10\n",
      "-1\n"
     ]
    }
   ],
   "source": [
    "# My partner's solution is efficient and correctly solves the problem. One potential improvement could be adding more comments to explain each step of the code for better readability. \n",
    "# As mentioned in my partner's assignment, another approach involves using a recursive Depth-First Search (DFS) traversal function to identify the first and closest duplicate value to the root within a binary tree.\n",
    "\n",
    "\n",
    "# Definition for a binary tree node.\n",
    "class TreeNode:\n",
    "    def __init__(self, val=0, left=None, right=None):\n",
    "        self.val = val\n",
    "        self.left = left\n",
    "        self.right = right\n",
    "\n",
    "def find_duplicate_dfs(node, visited):\n",
    "    if not node:\n",
    "        return -1\n",
    "    if node.val in visited:\n",
    "        return node.val\n",
    "    visited.add(node.val)\n",
    "    left_result = find_duplicate_dfs(node.left, visited)\n",
    "    if left_result != -1:\n",
    "        return left_result\n",
    "    return find_duplicate_dfs(node.right, visited)\n",
    "\n",
    "def find_duplicate(root):\n",
    "    visited = set()\n",
    "    return find_duplicate_dfs(root, visited)\n",
    "\n",
    "# Example usage:\n",
    "# Constructing the binary tree from Example 1\n",
    "root_1 = TreeNode(1)\n",
    "root_1.left = TreeNode(2)\n",
    "root_1.right = TreeNode(2)\n",
    "root_1.left.left = TreeNode(3)\n",
    "root_1.left.right = TreeNode(5)\n",
    "root_1.right.left = TreeNode(6)\n",
    "root_1.right.right = TreeNode(7)\n",
    "\n",
    "# Constructing the binary tree from Example 2\n",
    "root_2 = TreeNode(1)\n",
    "root_2.left = TreeNode(10)\n",
    "root_2.right = TreeNode(2)\n",
    "root_2.left.left = TreeNode(3)\n",
    "root_2.left.right = TreeNode(10)\n",
    "root_2.right.left = TreeNode(12)\n",
    "root_2.right.right = TreeNode(12)\n",
    "\n",
    "# Constructing the binary tree from Example 3\n",
    "root_3 = TreeNode(10)\n",
    "root_3.left = TreeNode(9)\n",
    "root_3.right = TreeNode(7)\n",
    "root_3.left.left = TreeNode(8)\n",
    "\n",
    "print(find_duplicate(root_1))  # Output: 2\n",
    "print(find_duplicate(root_2))  # Output: 10\n",
    "print(find_duplicate(root_3))  # Output: -1"
   ]
  },
  {
   "cell_type": "markdown",
   "metadata": {},
   "source": [
    "\n",
    "## Part 3:\n",
    "\n",
    "Please write a 200 word reflection documenting your process from assignment 1, and your presentation and review experience with your partner at the bottom of the Jupyter Notebook under a new heading \"Reflection.\" Again, export this Notebook as pdf.\n"
   ]
  },
  {
   "cell_type": "markdown",
   "metadata": {},
   "source": [
    "### Reflection"
   ]
  },
  {
   "cell_type": "markdown",
   "metadata": {},
   "source": [
    "### Assignment 1 was a great learning experience, especially in solving problems with binary trees and lists. Implementing the function to find duplicates in a binary tree helped me understand tree traversal and data structures better. Similarly, finding missing numbers in a list improved my skills with lists and handling duplicates.\n",
    "\n",
    "### Presenting and reviewing these solutions with my partner was very useful. It emphasized the need for clear explanations and effective communication in teamwork. This peer review process showed me how valuable feedback is for improving code quality and understanding complex problems.\n",
    "\n",
    "### Overall, this assignment was crucial in enhancing my approach to coding challenges and preparing for technical interviews. The feedback and the review process underscored the importance of careful problem analysis and solution implementation, contributing to a more comprehensive and effective coding practice."
   ]
  },
  {
   "cell_type": "markdown",
   "metadata": {},
   "source": [
    "\n",
    "## Evaluation Criteria\n",
    "\n",
    "We are looking for the similar points as Assignment 1\n",
    "\n",
    "-   Problem is accurately stated\n",
    "\n",
    "-   New example is correct and easily understandable\n",
    "\n",
    "-   Correctness, time, and space complexity of the coding solution\n",
    "\n",
    "-   Clarity in explaining why the solution works, its time and space complexity\n",
    "\n",
    "-   Quality of critique of your partner's assignment, if necessary\n"
   ]
  },
  {
   "cell_type": "markdown",
   "metadata": {},
   "source": [
    "## Submission Information\n",
    "\n",
    "🚨 **Please review our [Assignment Submission Guide](https://github.com/UofT-DSI/onboarding/blob/main/onboarding_documents/submissions.md)** 🚨 for detailed instructions on how to format, branch, and submit your work. Following these guidelines is crucial for your submissions to be evaluated correctly.\n",
    "\n",
    "### Submission Parameters:\n",
    "* Submission Due Date: `HH:MM AM/PM - DD/MM/YYYY`\n",
    "* The branch name for your repo should be: `assignment-2`\n",
    "* What to submit for this assignment:\n",
    "    * This Jupyter Notebook (assignment_2.ipynb) should be populated and should be the only change in your pull request.\n",
    "* What the pull request link should look like for this assignment: `https://github.com/<your_github_username>/algorithms_and_data_structures/pull/<pr_id>`\n",
    "    * Open a private window in your browser. Copy and paste the link to your pull request into the address bar. Make sure you can see your pull request properly. This helps the technical facilitator and learning support staff review your submission easily.\n",
    "\n",
    "Checklist:\n",
    "- [ ] Created a branch with the correct naming convention.\n",
    "- [ ] Ensured that the repository is public.\n",
    "- [ ] Reviewed the PR description guidelines and adhered to them.\n",
    "- [ ] Verify that the link is accessible in a private browser window.\n",
    "\n",
    "If you encounter any difficulties or have questions, please don't hesitate to reach out to our team via our Slack at `#cohort-3-help`. Our Technical Facilitators and Learning Support staff are here to help you navigate any challenges.\n"
   ]
  }
 ],
 "metadata": {
  "kernelspec": {
   "display_name": "dsi_participant",
   "language": "python",
   "name": "python3"
  },
  "language_info": {
   "codemirror_mode": {
    "name": "ipython",
    "version": 3
   },
   "file_extension": ".py",
   "mimetype": "text/x-python",
   "name": "python",
   "nbconvert_exporter": "python",
   "pygments_lexer": "ipython3",
   "version": "3.9.19"
  }
 },
 "nbformat": 4,
 "nbformat_minor": 2
}

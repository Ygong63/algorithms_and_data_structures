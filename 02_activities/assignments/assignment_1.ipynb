{
 "cells": [
  {
   "cell_type": "markdown",
   "metadata": {},
   "source": [
    "# Coding Problems\n",
    "\n",
    "## Objective\n",
    "\n",
    "This assignment aims to demonstrate how to study a data structures or algorithms question in depth to prepare for an industry coding interview. Leetcode is a popular coding practice site that many use to practice for technical interviews. Like behavioral interviews, it's important to practice and keep your skills sharp.\n",
    "\n",
    "## Group Size\n",
    "\n",
    "Please complete this individually.\n",
    "\n",
    "## Part 1:\n",
    "\n",
    "_*You will be assigned one of three problems based of your first name. Execute the code below, and that will tell you your assigned problem. Include the output as part of your submission (do not clear the output). The problems are based-off problems from Leetcode.*_\n"
   ]
  },
  {
   "cell_type": "code",
   "execution_count": 27,
   "metadata": {},
   "outputs": [
    {
     "name": "stdout",
     "output_type": "stream",
     "text": [
      "3\n"
     ]
    }
   ],
   "source": [
    "print((hash('yixi') % 3) + 1)"
   ]
  },
  {
   "cell_type": "markdown",
   "metadata": {},
   "source": [
    "<details>\n",
    "  <summary>Question 1</summary>\n",
    "\n",
    "  # Question One: Check Duplicates in Tree\n",
    "\n",
    "  Given the `root` of a binary tree, check whether it is contains a duplicate value. If a duplicate exists, return the duplicate value. If there are multiple duplicates, return the one with the closest distance to the root. If no duplicate exists, return -1.\n",
    "\n",
    "  ## Examples\n",
    "\n",
    "  ### Example 1\n",
    "\n",
    "  ![](./images/q1_ex1.png)\n",
    "\n",
    "  Input: `root = [1, 2, 2, 3, 5, 6, 7]` *What traversal method is this?*\n",
    "\n",
    "  Output: 2\n",
    "\n",
    "  ### Example 2\n",
    "\n",
    "  ![](./images/q1_ex2.png)\n",
    "\n",
    "  Input: `root = [1, 10, 2, 3, 10, 12, 12]`\n",
    "\n",
    "  Output: 10\n",
    "\n",
    "  ### Example 3\n",
    "\n",
    "  ![](./images/q1_ex3.png)\n",
    "\n",
    "  Input: `root = [10, 9, 8, 7]`\n",
    "\n",
    "  Output: -1\n",
    "\n",
    "</details>\n",
    "\n",
    "#### Starter Code for Question 1"
   ]
  },
  {
   "cell_type": "code",
   "execution_count": null,
   "metadata": {},
   "outputs": [],
   "source": [
    "# Definition for a binary tree node.\n",
    "# class TreeNode(object):\n",
    "#     def __init__(self, val = 0, left = None, right = None):\n",
    "#         self.val = val\n",
    "#         self.left = left\n",
    "#         self.right = right\n",
    "def is_symmetric(root: TreeNode) -> int:\n",
    "  # TODO"
   ]
  },
  {
   "cell_type": "markdown",
   "metadata": {},
   "source": [
    "<details>\n",
    "  <summary>Question 2</summary>\n",
    "\n",
    "  # Question Two: Path to Leaves\n",
    "\n",
    "  Given the `root` of a binary tree, return all root to leaf paths in any order.\n",
    "\n",
    "  ## Examples\n",
    "\n",
    "  ### Example 1\n",
    "\n",
    "  ![](./images/q1_ex1.png)\n",
    "\n",
    "  Input: `root = [1, 2, 2, 3, 5, 6, 7]` *What traversal method is this?*\n",
    "\n",
    "  Output: [[1, 2, 3], [1, 2, 5], [1, 2, 6], [1, 2, 7]]\n",
    "\n",
    "  ### Example 2\n",
    "\n",
    "  ![](./images/q1_ex3.png)\n",
    "\n",
    "  Input: `root = [10, 9, 8, 7]`\n",
    "\n",
    "  Output: [[10, 7], [10, 9, 8]]\n",
    "\n",
    "</details>\n",
    "\n",
    "#### Starter Code for Question 2"
   ]
  },
  {
   "cell_type": "code",
   "execution_count": null,
   "metadata": {},
   "outputs": [],
   "source": [
    "# Definition for a binary tree node.\n",
    "# class TreeNode(object):\n",
    "#     def __init__(self, val = 0, left = None, right = None):\n",
    "#         self.val = val\n",
    "#         self.left = left\n",
    "#         self.right = right\n",
    "def bt_path(root: TreeNode) -> List[List[int]]:\n",
    "  # TODO"
   ]
  },
  {
   "cell_type": "markdown",
   "metadata": {},
   "source": [
    "<details>\n",
    "  <summary>Question 3</summary>\n",
    "\n",
    "  # Question Three: Missing Number in Range\n",
    " \n",
    "  You are given a list containing `n` integers in the range `[0, n]`. Return a list of numbers that are missing from the range `[0, n]` of the array. If there is no missing number, return -1. Note, all the integers in the list may not be unique.\n",
    "  \n",
    "  ## Examples\n",
    "\n",
    "  ### Example 1\n",
    "\n",
    "  Input: `lst = [0, 2]`\n",
    "\n",
    "  Output: [1]\n",
    "\n",
    "  ### Example 2\n",
    "\n",
    "  Input: `lst = [5, 0, 1]`\n",
    "\n",
    "  Output: [2, 3, 4]\n",
    "\n",
    "  ### Example 3\n",
    "\n",
    "  Input: `lst = [6, 8, 2, 3, 5, 7, 0, 1, 10]`\n",
    "\n",
    "  Output: [4, 9]\n",
    "\n",
    "</details>\n",
    "\n",
    "#### Starter Code for Question 3\n"
   ]
  },
  {
   "cell_type": "code",
   "execution_count": null,
   "metadata": {},
   "outputs": [],
   "source": [
    "def missing_num(nums: List) -> int:\n",
    "  # TODO"
   ]
  },
  {
   "cell_type": "markdown",
   "metadata": {},
   "source": [
    "\n",
    "## Part 2:\n",
    "\n",
    "-   Paraphrase the problem in your own words\n"
   ]
  },
  {
   "cell_type": "code",
   "execution_count": 28,
   "metadata": {},
   "outputs": [],
   "source": [
    "# Have an array of integers that includes numbers between 0 and n. Some of these numbers might be missing from the array. The goal is to identify and return a list of all the missing numbers from this range. If there are no missing numbers, return -1.Note that the list may contain duplicate numbers."
   ]
  },
  {
   "cell_type": "markdown",
   "metadata": {},
   "source": [
    "\n",
    "-   In the .md file containing your problem, there are examples that illustrate how the code should work. Create 2 new examples that demonstrate you understand the problem.\n"
   ]
  },
  {
   "cell_type": "code",
   "execution_count": 30,
   "metadata": {},
   "outputs": [],
   "source": [
    "# Your answer here\n",
    "ls = 0, 2, 2, 1, 3, 3, 4, 5, 5, 8, 8, 10\n",
    "# Explanation for ls: The numbers `6,7,9` are missing from the list, while all other numbers are present up to `10`.\n",
    "ls2 = 5, 0, 1, 1, 2, 3, 3, 4, 5, 6, 7, 7, 8, 9, 9, 10\n",
    "# Explanation for ls2: There are no missing numbers in the list from `0` to `10`, despite some numbers appearing twice. Expected output -1"
   ]
  },
  {
   "cell_type": "markdown",
   "metadata": {},
   "source": [
    "\n",
    "-   Code the solution to your assigned problem in Python (code chunk). Try to find the best time and space complexity solution!\n"
   ]
  },
  {
   "cell_type": "code",
   "execution_count": 31,
   "metadata": {},
   "outputs": [
    {
     "name": "stdout",
     "output_type": "stream",
     "text": [
      "[1]\n",
      "[2, 3, 4]\n",
      "[4, 9]\n",
      "[6, 7, 9]\n",
      "[-1]\n"
     ]
    }
   ],
   "source": [
    "from typing import List\n",
    "\n",
    "def missing_num(nums: List[int]) -> List[int]:\n",
    "    n = max(nums)  # Determine the maximum number in the list\n",
    "    full_set = set(range(n + 1))  # Create a set of numbers from 0 to n\n",
    "    num_set = set(nums)  # Create a set to store unique numbers in nums\n",
    "    missing = list(full_set - num_set)  # Find the difference between the full set and the num set\n",
    "    \n",
    "    # If there are missing numbers, return them sorted\n",
    "    if missing:\n",
    "        return sorted(missing)\n",
    "    else:\n",
    "        return [-1]\n",
    "\n",
    "# Test cases\n",
    "print(missing_num([0, 2]))  \n",
    "print(missing_num([5, 0, 1]))  \n",
    "print(missing_num([6, 8, 2, 3, 5, 7, 0, 1, 10]))  \n",
    "print(missing_num([0, 2, 2, 1, 3, 3, 4, 5, 5, 8, 8, 10])) #ls\n",
    "print(missing_num([5, 0, 1, 1, 2, 3, 3, 4, 5, 6, 7, 7, 8, 9, 9, 10])) #ls2"
   ]
  },
  {
   "cell_type": "markdown",
   "metadata": {},
   "source": [
    "\n",
    "-   Explain why your solution works\n"
   ]
  },
  {
   "cell_type": "code",
   "execution_count": 32,
   "metadata": {},
   "outputs": [],
   "source": [
    "# Determines the maximum number (n) in the input list nums using max(nums).\n",
    "# Generates a set full_set containing numbers from 0 to n using set(range(n + 1)).\n",
    "# Converts the input list nums into a set num_set to store unique numbers present in nums.\n",
    "# Calculates the set difference full_set - num_set.\n",
    "# Converts the resulting set of missing numbers into a list using list(...).\n",
    "# Checks if the missing list contains any elements using if missing:.\n",
    "# If there are missing numbers (missing is not empty), proceeds to sort them.\n",
    "# Sorts the missing list in ascending order using sorted(missing).\n",
    "# Returns the sorted list of missing numbers if any are found.\n",
    "# If no missing numbers are found (missing is empty), returns [-1] as an indicator."
   ]
  },
  {
   "cell_type": "markdown",
   "metadata": {},
   "source": [
    "\n",
    "-   Explain the problem’s and space complexity\n"
   ]
  },
  {
   "cell_type": "code",
   "execution_count": 33,
   "metadata": {},
   "outputs": [],
   "source": [
    "# Time Complexity: The time complexity is O(n) or creating the sets and O(nlogn) for sorting the list of missing numbers. Therefore, the overall time complexity is O(nlogn)\n",
    "# Space Complexity: The space complexity is O(n) for storing the sets\n"
   ]
  },
  {
   "cell_type": "markdown",
   "metadata": {},
   "source": [
    "\n",
    "-   Explain the thinking to an alternative solution (no coding required, but a classmate reading this should be able to code it up based off your text)\n"
   ]
  },
  {
   "cell_type": "code",
   "execution_count": 35,
   "metadata": {},
   "outputs": [
    {
     "name": "stdout",
     "output_type": "stream",
     "text": [
      "[1]\n",
      "[2, 3, 4]\n",
      "[4, 9]\n",
      "[6, 7, 9]\n",
      "[-1]\n"
     ]
    }
   ],
   "source": [
    "# Improved Function:\n",
    "\n",
    "from typing import List\n",
    "\n",
    "def missing_num(nums: List[int]) -> List[int]:\n",
    "    if not nums:\n",
    "        return [-1]  # Return [-1] if nums list is empty\n",
    "    \n",
    "    n = max(nums)  # Determine the maximum number in the list\n",
    "    full_set = set(range(n + 1))  # Create a set of numbers from 0 to n\n",
    "    num_set = set(nums)  # Create a set to store unique numbers in nums\n",
    "    missing = sorted(list(full_set - num_set))  # Find missing numbers and sort them\n",
    "    \n",
    "    return missing if missing else [-1]  # Return sorted missing numbers or [-1] if none are missing\n",
    "# Test cases\n",
    "print(missing_num([0, 2]))  \n",
    "print(missing_num([5, 0, 1]))  \n",
    "print(missing_num([6, 8, 2, 3, 5, 7, 0, 1, 10]))  \n",
    "print(missing_num([0, 2, 2, 1, 3, 3, 4, 5, 5, 8, 8, 10])) #ls\n",
    "print(missing_num([5, 0, 1, 1, 2, 3, 3, 4, 5, 6, 7, 7, 8, 9, 9, 10])) #ls2\n",
    "\n",
    "# Checks if the input list nums is empty.\n",
    "# Returns [-1] immediately if nums is empty, indicating no numbers are missing.\n",
    "# Finds the maximum number (n) in the list nums using max(nums).\n",
    "# Creates a set full_set containing numbers from 0 to n using set(range(n + 1)).\n",
    "# Converts the input list nums into a set num_set to store unique numbers present in nums.\n",
    "# Calculates the set difference full_set - num_set to find numbers that are in full_set but not in num_set.\n",
    "# Converts the resulting set of missing numbers to a sorted list using sorted(list(...)).\n",
    "# Sorting ensures that missing numbers are returned in ascending order.\n",
    "# Checks if missing (the sorted list of missing numbers) is empty.\n",
    "# Returns missing if there are missing numbers, indicating successful identification and sorting of missing numbers.\n",
    "# Otherwise, returns [-1] if no numbers are missing, ensuring consistency in return format even if no missing numbers are found."
   ]
  },
  {
   "cell_type": "markdown",
   "metadata": {},
   "source": [
    "## Evaluation Criteria\n",
    "\n",
    "-   Problem is accurately stated\n",
    "\n",
    "-   Two examples are correct and easily understandable\n",
    "\n",
    "-   Correctness, time, and space complexity of the coding solution\n",
    "\n",
    "-   Clarity in explaining why the solution works, its time and space complexity\n",
    "\n",
    "-   Clarity in the proposal to the alternative solution"
   ]
  },
  {
   "cell_type": "markdown",
   "metadata": {},
   "source": [
    "## Submission Information\n",
    "\n",
    "🚨 **Please review our [Assignment Submission Guide](https://github.com/UofT-DSI/onboarding/blob/main/onboarding_documents/submissions.md)** 🚨 for detailed instructions on how to format, branch, and submit your work. Following these guidelines is crucial for your submissions to be evaluated correctly.\n",
    "\n",
    "### Submission Parameters:\n",
    "* Submission Due Date: `HH:MM AM/PM - DD/MM/YYYY`\n",
    "* The branch name for your repo should be: `assignment-1`\n",
    "* What to submit for this assignment:\n",
    "    * This Jupyter Notebook (assignment_1.ipynb) should be populated and should be the only change in your pull request.\n",
    "* What the pull request link should look like for this assignment: `https://github.com/<your_github_username>/algorithms_and_data_structures/pull/<pr_id>`\n",
    "    * Open a private window in your browser. Copy and paste the link to your pull request into the address bar. Make sure you can see your pull request properly. This helps the technical facilitator and learning support staff review your submission easily.\n",
    "\n",
    "Checklist:\n",
    "- [ ] Create a branch called `assignment-1`.\n",
    "- [ ] Ensure that the repository is public.\n",
    "- [ ] Review [the PR description guidelines](https://github.com/UofT-DSI/onboarding/blob/main/onboarding_documents/submissions.md#guidelines-for-pull-request-descriptions) and adhere to them.\n",
    "- [ ] Verify that the link is accessible in a private browser window.\n",
    "\n",
    "If you encounter any difficulties or have questions, please don't hesitate to reach out to our team via our Slack at `#cohort-3-help`. Our Technical Facilitators and Learning Support staff are here to help you navigate any challenges."
   ]
  }
 ],
 "metadata": {
  "kernelspec": {
   "display_name": "Python 3",
   "language": "python",
   "name": "python3"
  },
  "language_info": {
   "codemirror_mode": {
    "name": "ipython",
    "version": 3
   },
   "file_extension": ".py",
   "mimetype": "text/x-python",
   "name": "python",
   "nbconvert_exporter": "python",
   "pygments_lexer": "ipython3",
   "version": "3.9.19"
  }
 },
 "nbformat": 4,
 "nbformat_minor": 2
}
